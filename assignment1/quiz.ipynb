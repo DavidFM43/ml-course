{
 "cells": [
  {
   "cell_type": "code",
   "execution_count": 2,
   "metadata": {},
   "outputs": [],
   "source": [
    "import numpy as np"
   ]
  },
  {
   "cell_type": "code",
   "execution_count": 3,
   "metadata": {},
   "outputs": [],
   "source": [
    "sigmoid = lambda x: 1 / (1 + np.exp(-x))"
   ]
  },
  {
   "cell_type": "code",
   "execution_count": 4,
   "metadata": {},
   "outputs": [
    {
     "data": {
      "text/plain": [
       "0.6942363401080306"
      ]
     },
     "execution_count": 4,
     "metadata": {},
     "output_type": "execute_result"
    }
   ],
   "source": [
    "w = np.array([-0.08, 0.97, -0.46])\n",
    "x = np.array([0, 1, 1])\n",
    "b = 0.31\n",
    "\n",
    "pred = lambda x: sigmoid(np.dot(w, x) + b)\n",
    "pred(x)\n"
   ]
  },
  {
   "cell_type": "code",
   "execution_count": 5,
   "metadata": {},
   "outputs": [],
   "source": [
    "y = 1\n",
    "w = np.array([-0.08, 0.97, -0.46])\n",
    "x = np.array([1, 1, 1])\n",
    "b = 0.31\n",
    "\n",
    "preact = np.dot(w, x) + b\n",
    "h = sigmoid(preact)\n",
    "diff = y - h\n",
    "diff_sq = diff**2\n",
    "diff_half = diff_sq / 2\n"
   ]
  },
  {
   "cell_type": "code",
   "execution_count": 6,
   "metadata": {},
   "outputs": [
    {
     "name": "stdout",
     "output_type": "stream",
     "text": [
      "-0.07063211292697297\n"
     ]
    },
    {
     "data": {
      "text/plain": [
       "-0.07063211292697297"
      ]
     },
     "execution_count": 6,
     "metadata": {},
     "output_type": "execute_result"
    }
   ],
   "source": [
    "ddiff_sq = 1 / 2\n",
    "ddiff = 2 * diff * ddiff_sq\n",
    "dh = -1 * ddiff\n",
    "dpreact = sigmoid(preact) * (1 - sigmoid(preact)) * dh\n",
    "dw0 = x[0] * dpreact\n",
    "print(dw0)\n",
    "\n",
    "-diff * sigmoid(preact) * (1 - sigmoid(preact)) * x[0]\n"
   ]
  }
 ],
 "metadata": {
  "kernelspec": {
   "display_name": "ml-course",
   "language": "python",
   "name": "python3"
  },
  "language_info": {
   "codemirror_mode": {
    "name": "ipython",
    "version": 3
   },
   "file_extension": ".py",
   "mimetype": "text/x-python",
   "name": "python",
   "nbconvert_exporter": "python",
   "pygments_lexer": "ipython3",
   "version": "3.9.16"
  },
  "orig_nbformat": 4
 },
 "nbformat": 4,
 "nbformat_minor": 2
}
