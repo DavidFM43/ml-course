{
 "cells": [
  {
   "cell_type": "code",
   "execution_count": 23,
   "metadata": {},
   "outputs": [],
   "source": [
    "def clean_words_ds(raw_file):\n",
    "    with open(raw_file, \"r\") as f:\n",
    "        words = f.readlines()[0].split(\" \")\n",
    "        words = [word.lower() for word in words if len(word) >= 4 and word.isalpha()]\n",
    "    return set(words)"
   ]
  },
  {
   "cell_type": "code",
   "execution_count": 24,
   "metadata": {},
   "outputs": [
    {
     "data": {
      "text/plain": [
       "(1965, 1863)"
      ]
     },
     "execution_count": 24,
     "metadata": {},
     "output_type": "execute_result"
    }
   ],
   "source": [
    "words_en = clean_words_ds(\"raw/words_raw_en.txt\")\n",
    "words_es = clean_words_ds(\"raw/words_raw_es.txt\")\n",
    "\n",
    "len(words_en), len(words_es)"
   ]
  },
  {
   "cell_type": "code",
   "execution_count": 25,
   "metadata": {},
   "outputs": [
    {
     "data": {
      "text/plain": [
       "(1919, 1817)"
      ]
     },
     "execution_count": 25,
     "metadata": {},
     "output_type": "execute_result"
    }
   ],
   "source": [
    "words_en, words_es = words_en.difference(words_es), words_es.difference(words_en)\n",
    "len(words_en), len(words_es)"
   ]
  },
  {
   "cell_type": "code",
   "execution_count": 28,
   "metadata": {},
   "outputs": [],
   "source": [
    "with open(\"words_en.txt\", \"w\") as file:\n",
    "    for word in words_en:\n",
    "        file.write(word + \"\\n\")\n",
    "\n",
    "with open(\"words_es.txt\", \"w\") as file:\n",
    "    for word in words_es:\n",
    "        file.write(word + \"\\n\")"
   ]
  }
 ],
 "metadata": {
  "kernelspec": {
   "display_name": "Python 3 (ipykernel)",
   "language": "python",
   "name": "python3"
  },
  "language_info": {
   "codemirror_mode": {
    "name": "ipython",
    "version": 3
   },
   "file_extension": ".py",
   "mimetype": "text/x-python",
   "name": "python",
   "nbconvert_exporter": "python",
   "pygments_lexer": "ipython3",
   "version": "3.10.10"
  }
 },
 "nbformat": 4,
 "nbformat_minor": 4
}
